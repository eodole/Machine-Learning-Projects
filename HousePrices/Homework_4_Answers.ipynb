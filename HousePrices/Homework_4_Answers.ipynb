{
 "cells": [
  {
   "cell_type": "code",
   "execution_count": 15,
   "id": "fb25967f",
   "metadata": {},
   "outputs": [],
   "source": [
    "import run\n",
    "import sklearn\n",
    "from sklearn import datasets\n",
    "import numpy as np\n",
    "import sys"
   ]
  },
  {
   "cell_type": "markdown",
   "id": "12327250",
   "metadata": {},
   "source": [
    "__Problem 1__\n",
    "\n",
    "For the first problem we are asked to report the optimal solution for ridge regression and lasso given that $\\alpha = 1$ "
   ]
  },
  {
   "cell_type": "code",
   "execution_count": 2,
   "id": "fd6d996e",
   "metadata": {},
   "outputs": [
    {
     "name": "stdout",
     "output_type": "stream",
     "text": [
      "Optimal Lasso Parameters:\n",
      "[-0.          0.         -0.          0.         -0.          0.\n",
      " -0.          0.         -0.         -0.42655753 -2.11418534  0.\n",
      " -9.46050116]\n",
      "Optimal Ridge Regression Parameters:\n",
      "[-4.3675816   2.19284644  0.15882599  1.3732729  -4.07351976  9.78790245\n",
      "  0.03561058 -7.69095705  3.30454181 -3.05419625 -4.45039373  1.85375177\n",
      " -9.4539433 ]\n"
     ]
    }
   ],
   "source": [
    "xvals, yvals = run.readInData(\"./house_scale.txt\") \n",
    "run.Problem1(xvals,yvals)"
   ]
  },
  {
   "cell_type": "markdown",
   "id": "88bd0873",
   "metadata": {},
   "source": [
    "__Problem 2__\n",
    "\n",
    "For the second problem we are asked to split the data into testing and training, then to plot the testing error for both the testing and training data for the Ridge Regression and the Lasso models. "
   ]
  },
  {
   "cell_type": "code",
   "execution_count": 3,
   "id": "cbe9a707",
   "metadata": {},
   "outputs": [
    {
     "name": "stderr",
     "output_type": "stream",
     "text": [
      "/Users/ellieodole/Desktop/CS5430/HousePrices/run.py:67: UserWarning: With alpha=0, this algorithm does not converge well. You are advised to use the LinearRegression estimator\n",
      "  Lasso_2.fit(train_x,train_y)\n",
      "/opt/anaconda3/lib/python3.8/site-packages/sklearn/linear_model/_coordinate_descent.py:645: UserWarning: Coordinate descent with no regularization may lead to unexpected results and is discouraged.\n",
      "  model = cd_fast.enet_coordinate_descent(\n",
      "/opt/anaconda3/lib/python3.8/site-packages/sklearn/linear_model/_coordinate_descent.py:645: ConvergenceWarning: Objective did not converge. You might want to increase the number of iterations, check the scale of the features or consider increasing regularisation. Duality gap: 4.461e+03, tolerance: 3.352e+00 Linear regression models with null weight for the l1 regularization term are more efficiently fitted using one of the solvers implemented in sklearn.linear_model.Ridge/RidgeCV instead.\n",
      "  model = cd_fast.enet_coordinate_descent(\n"
     ]
    },
    {
     "data": {
      "image/png": "[encoded data removed]",
      "text/plain": [
       "<Figure size 432x288 with 1 Axes>"
      ]
     },
     "metadata": {
      "needs_background": "light"
     },
     "output_type": "display_data"
    }
   ],
   "source": [
    "run.Problem2(xvals,yvals)"
   ]
  },
  {
   "cell_type": "markdown",
   "id": "dc76a1b8",
   "metadata": {},
   "source": [
    "As alpha increases, the testing error also tends to increase and when plotted on a log10 scale, the testing error appears to form a logistic curve, with the testing error starting to plateau at $\\alpha=10$\n"
   ]
  },
  {
   "cell_type": "markdown",
   "id": "0f54ed9b",
   "metadata": {},
   "source": [
    "__Problem 3__ \n",
    "\n",
    "For problem 3 we are asked to do a 5-fold cross-validation to select the best $\\alpha$ then report the $\\alpha$ and the testing error"
   ]
  },
  {
   "cell_type": "code",
   "execution_count": 4,
   "id": "74854608",
   "metadata": {},
   "outputs": [
    {
     "name": "stdout",
     "output_type": "stream",
     "text": [
      "Lasso Optimal alpha:  0.1\n",
      "Lasso Testing Error:  2.161117898467248\n",
      "Ridge Regression Optimal alpha:  8.0\n",
      "Ridge Regression Testing Error:  2.038255722872835\n"
     ]
    }
   ],
   "source": [
    "run.Problem3_4(xvals,yvals)"
   ]
  },
  {
   "cell_type": "markdown",
   "id": "dc41afd9",
   "metadata": {},
   "source": [
    "__Problem 4__\n",
    "\n",
    "For problem 4 we are asked to follow the same procedure as problem 3, but to use the non-scaled data. "
   ]
  },
  {
   "cell_type": "code",
   "execution_count": 5,
   "id": "26486703",
   "metadata": {},
   "outputs": [
    {
     "name": "stdout",
     "output_type": "stream",
     "text": [
      "Lasso Optimal alpha:  0.1\n",
      "Lasso Testing Error:  2.206250188295328\n",
      "Ridge Regression Optimal alpha:  80.0\n",
      "Ridge Regression Testing Error:  2.0329075900570777\n"
     ]
    }
   ],
   "source": [
    "xvals, yvals = run.readInData(\"./house.txt\")\n",
    "run.Problem3_4(xvals,yvals) "
   ]
  },
  {
   "cell_type": "markdown",
   "id": "d53157a8",
   "metadata": {},
   "source": [
    "__Problem 5__\n",
    "\n",
    "For problem 5 we are asked to follow the same procedure as problems 1-3 for on the E2006-tfidf dataset. This dataset comes from the LibSVM website which can conviently be read using a scikitlearn function"
   ]
  },
  {
   "cell_type": "code",
   "execution_count": 6,
   "id": "33d5a6f8",
   "metadata": {},
   "outputs": [],
   "source": [
    "#Read in the Data\n",
    "#Note that for our purposes the training \n",
    "#and test datasets are flipped from the websites labeling\n",
    "train_x, train_y = sklearn.datasets.load_svmlight_file(\"./E2006.test\")\n",
    "test_x, test_y = sklearn.datasets.load_svmlight_file(\"./E2006.train\")\n"
   ]
  },
  {
   "cell_type": "code",
   "execution_count": 7,
   "id": "2f0268a1",
   "metadata": {},
   "outputs": [],
   "source": [
    "#The test_x variable has two extra attributes which we will ignore\n",
    "test_x = test_x[:, :-2]"
   ]
  },
  {
   "cell_type": "markdown",
   "id": "70279b58",
   "metadata": {},
   "source": [
    "(1) Optimal Parameters for dataset "
   ]
  },
  {
   "cell_type": "code",
   "execution_count": 8,
   "id": "784eea82",
   "metadata": {},
   "outputs": [
    {
     "name": "stdout",
     "output_type": "stream",
     "text": [
      "Optimal Lasso Parameters:\n",
      "[ 0.  0.  0. ...  0. -0. -0.]\n",
      "Optimal Ridge Regression Parameters:\n",
      "[ 8.43763708e-01  0.00000000e+00  0.00000000e+00 ...  0.00000000e+00\n",
      " -9.16315016e-05 -2.74894505e-04]\n"
     ]
    }
   ],
   "source": [
    "run.Problem1(train_x, train_y)"
   ]
  },
  {
   "cell_type": "markdown",
   "id": "465dcabe",
   "metadata": {},
   "source": [
    "Because the parameters are abbreviated I will write the parameters to a text file."
   ]
  },
  {
   "cell_type": "code",
   "execution_count": 16,
   "id": "f494f404",
   "metadata": {},
   "outputs": [],
   "source": [
    "a =1\n",
    "Lasso_1 = sklearn.linear_model.Lasso(alpha=a, fit_intercept = True)\n",
    "Lasso_1.fit(train_x, train_y)\n",
    "RR_1 = sklearn.linear_model.Ridge(alpha=a, fit_intercept = True)\n",
    "RR_1.fit(train_x, train_y)\n",
    "with open(\"./Problem5_Q1.txt\", 'w') as file:\n",
    "        np.set_printoptions(threshold=sys.maxsize)\n",
    "        file.write(str(Lasso_1.coef_))\n",
    "        file.write(str(RR_1.coef_))"
   ]
  },
  {
   "cell_type": "markdown",
   "id": "b155353d",
   "metadata": {},
   "source": [
    "(2) Testing Error for testing and training data"
   ]
  },
  {
   "cell_type": "code",
   "execution_count": 10,
   "id": "20a39294",
   "metadata": {},
   "outputs": [
    {
     "name": "stderr",
     "output_type": "stream",
     "text": [
      "/Users/ellieodole/Desktop/CS5430/HousePrices/run.py:67: UserWarning: With alpha=0, this algorithm does not converge well. You are advised to use the LinearRegression estimator\n",
      "  Lasso_2.fit(train_x,train_y)\n"
     ]
    },
    {
     "data": {
      "image/png": "[encoded data removed]",
      "text/plain": [
       "<Figure size 432x288 with 1 Axes>"
      ]
     },
     "metadata": {
      "needs_background": "light"
     },
     "output_type": "display_data"
    }
   ],
   "source": [
    "run.Problem2(None,None, train_x, train_y, test_x, test_y)"
   ]
  },
  {
   "cell_type": "markdown",
   "id": "9590e4c6",
   "metadata": {},
   "source": [
    "Due to the nonconvergence at $\\alpha = 0$ we cannot take the RMSE at $\\alpha = 0$ at face value. However, for the rest of the graph is appear to follow the same pattern as the other graph from problem 2, producing a logistic curve. "
   ]
  },
  {
   "cell_type": "markdown",
   "id": "926f36d2",
   "metadata": {},
   "source": [
    "(3) Cross Validation"
   ]
  },
  {
   "cell_type": "code",
   "execution_count": 11,
   "id": "8d231068",
   "metadata": {},
   "outputs": [
    {
     "name": "stdout",
     "output_type": "stream",
     "text": [
      "Lasso Optimal alpha:  0.001\n",
      "Lasso Testing Error:  0.5018545764290182\n",
      "Ridge Regression Optimal alpha:  6.6160000000000005\n",
      "Ridge Regression Testing Error:  0.501771074196799\n"
     ]
    }
   ],
   "source": [
    "run.Problem3_4(None, None, train_x, train_y, test_x, test_y)"
   ]
  }
 ],
 "metadata": {
  "kernelspec": {
   "display_name": "Python 3",
   "language": "python",
   "name": "python3"
  },
  "language_info": {
   "codemirror_mode": {
    "name": "ipython",
    "version": 3
   },
   "file_extension": ".py",
   "mimetype": "text/x-python",
   "name": "python",
   "nbconvert_exporter": "python",
   "pygments_lexer": "ipython3",
   "version": "3.8.8"
  }
 },
 "nbformat": 4,
 "nbformat_minor": 5
}
